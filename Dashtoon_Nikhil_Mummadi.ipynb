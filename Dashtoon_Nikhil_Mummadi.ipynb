{
  "cells": [
    {
      "cell_type": "code",
      "source": [
        "import tensorflow as tf\n",
        "from tensorflow.keras import models, layers, optimizers\n",
        "from tensorflow.keras.preprocessing.image import ImageDataGenerator\n",
        "import matplotlib.pyplot as plt\n",
        "import os\n",
        "\n",
        "# Function to create the style transfer model\n",
        "def create_model():\n",
        "    # Define your model architecture (replace this with your model)\n",
        "    model = tf.keras.applications.VGG16(weights='imagenet', include_top=False)\n",
        "    return model\n",
        "\n",
        "# Function to define content loss\n",
        "def content_loss(content_features, generated_features):\n",
        "    return tf.reduce_mean(tf.square(content_features - generated_features))\n",
        "\n",
        "# Function to define style loss using Gram matrix\n",
        "def gram_matrix(x):\n",
        "    return tf.linalg.einsum('bijc,bijd->bcd', x, x)\n",
        "\n",
        "def style_loss(style_features, generated_features):\n",
        "    return tf.reduce_mean(tf.square(gram_matrix(style_features) - gram_matrix(generated_features)))\n",
        "\n",
        "# Function to calculate total loss\n",
        "def total_loss(content_features, style_features, generated_features):\n",
        "    alpha = 1.0  # Content weight\n",
        "    beta = 0.1   # Style weight\n",
        "    return alpha * content_loss(content_features, generated_features) + beta * style_loss(style_features, generated_features)\n",
        "\n",
        "# Function to perform style transfer\n",
        "def style_transfer(content_image, style_image, num_iterations=100):\n",
        "    # Load and preprocess images\n",
        "    content_image = tf.keras.preprocessing.image.load_img(content_image, target_size=(256, 256))\n",
        "    content_image = tf.keras.preprocessing.image.img_to_array(content_image)\n",
        "    content_image = tf.expand_dims(content_image, axis=0)\n",
        "\n",
        "    style_image = tf.keras.preprocessing.image.load_img(style_image, target_size=(256, 256))\n",
        "    style_image = tf.keras.preprocessing.image.img_to_array(style_image)\n",
        "    style_image = tf.expand_dims(style_image, axis=0)\n",
        "\n",
        "    # Create the style transfer model\n",
        "    model = create_model()\n",
        "\n",
        "    # Extract features from intermediate layers for content and style images\n",
        "    content_features = model(content_image)\n",
        "    style_features = model(style_image)\n",
        "\n",
        "    # Initialize generated image as the content image\n",
        "    generated_image = tf.Variable(content_image, trainable=True)\n",
        "\n",
        "    # Use Adam optimizer for gradient descent\n",
        "    optimizer = optimizers.Adam(learning_rate=5, beta_1=0.99, epsilon=1e-1)\n",
        "\n",
        "    # Perform gradient descent to minimize the total loss\n",
        "    for i in range(num_iterations):\n",
        "        with tf.GradientTape() as tape:\n",
        "            tape.watch(generated_image)\n",
        "            gen_features = model(generated_image)\n",
        "            loss = total_loss(content_features, style_features, gen_features)\n",
        "\n",
        "        gradients = tape.gradient(loss, generated_image)\n",
        "        optimizer.apply_gradients([(gradients, generated_image)])\n",
        "\n",
        "        # Clip values to be in the valid image range\n",
        "        generated_image.assign(tf.clip_by_value(generated_image, clip_value_min=0.0, clip_value_max=255.0))\n",
        "\n",
        "        if i % 10 == 0:\n",
        "            print(f\"Iteration {i}, Loss: {loss.numpy()}\")\n",
        "\n",
        "    # Display the stylized image\n",
        "    plt.imshow(generated_image.numpy()[0].astype(\"uint8\"))\n",
        "    plt.axis('off')\n",
        "    plt.show()\n",
        "\n",
        "# Example usage\n",
        "content_image_path = 'path/to/content_image.jpg'\n",
        "style_image_path = 'path/to/style_image.jpg'\n",
        "style_transfer(content_image_path, style_image_path)\n"
      ],
      "metadata": {
        "id": "Lafotfjx_y8d"
      },
      "execution_count": null,
      "outputs": []
    },
    {
      "cell_type": "code",
      "source": [],
      "metadata": {
        "id": "B3d9mcMC_zAN"
      },
      "execution_count": null,
      "outputs": []
    },
    {
      "cell_type": "code",
      "source": [],
      "metadata": {
        "id": "Pd9mwkgz_zC7"
      },
      "execution_count": null,
      "outputs": []
    },
    {
      "cell_type": "code",
      "source": [],
      "metadata": {
        "id": "sp97UxZI_zF_"
      },
      "execution_count": null,
      "outputs": []
    },
    {
      "cell_type": "code",
      "source": [],
      "metadata": {
        "id": "aCg0Ktn4_zIw"
      },
      "execution_count": null,
      "outputs": []
    }
  ],
  "metadata": {
    "colab": {
      "name": "Welcome To Colaboratory",
      "provenance": []
    },
    "kernelspec": {
      "display_name": "Python 3",
      "name": "python3"
    }
  },
  "nbformat": 4,
  "nbformat_minor": 0
}